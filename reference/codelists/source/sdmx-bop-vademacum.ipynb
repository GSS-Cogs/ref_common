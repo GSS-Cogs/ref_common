{
 "cells": [
  {
   "cell_type": "code",
   "execution_count": 145,
   "metadata": {},
   "outputs": [],
   "source": [
    "import json\n",
    "import numpy as np\n",
    "import pandas as pd\n",
    "import requests\n",
    "import xmltodict\n",
    "from collections import OrderedDict"
   ]
  },
  {
   "cell_type": "code",
   "execution_count": 146,
   "metadata": {},
   "outputs": [],
   "source": [
    "url = \"https://registry.sdmx.org/ws/public/sdmxapi/rest/datastructure/IMF/BOP/1.14/?detail=full&references=descendants&version=2.1\"\n",
    "response = requests.get(url)\n",
    "data = xmltodict.parse(response.content)"
   ]
  },
  {
   "cell_type": "code",
   "execution_count": 149,
   "metadata": {},
   "outputs": [
    {
     "name": "stdout",
     "output_type": "stream",
     "text": [
      "ID: IREF580151\n",
      "Date: 2021-03-04T11:40:13Z\n"
     ]
    }
   ],
   "source": [
    "input_dict = data\n",
    "output_dict = json.loads(json.dumps(input_dict))\n",
    "\n",
    "mainid = output_dict['mes:Structure']['mes:Header']['mes:ID']\n",
    "# This date will reference now\n",
    "prepareddate = output_dict['mes:Structure']['mes:Header']['mes:Prepared']\n",
    "print(\"ID: \" + mainid)\n",
    "print(\"Date: \" + prepareddate)"
   ]
  },
  {
   "cell_type": "code",
   "execution_count": 164,
   "metadata": {},
   "outputs": [
    {
     "name": "stdout",
     "output_type": "stream",
     "text": [
      "cl-instr-asset.csv\n",
      "cl-maturity.csv\n",
      "cl-obs-status.csv\n",
      "cl-ref-period-dtl.csv\n",
      "cl-sector.csv\n",
      "cl-valuation.csv\n",
      "cl-accounts-item.csv\n",
      "cl-account-entry.csv\n",
      "cl-adjustment.csv\n",
      "cl-area.csv\n",
      "cl-comp-method.csv\n",
      "cl-fsentry.csv\n",
      "cl-functional-cat.csv\n",
      "cl-organisation.csv\n",
      "cl-time-collect.csv\n",
      "cl-unit.csv\n",
      "cl-conf-status.csv\n",
      "cl-decimals.csv\n",
      "cl-freq.csv\n",
      "cl-time-format.csv\n",
      "cl-unit-mult.csv\n"
     ]
    }
   ],
   "source": [
    "#### OUTPUT ALL THE CODELISTS ####\n",
    "input_dict = data\n",
    "output_dict = json.loads(json.dumps(input_dict))\n",
    "output_dict = output_dict['mes:Structure']['mes:Structures']['str:Codelists']#['str:Codelist']\n",
    "d = pd.DataFrame(output_dict)\n",
    "\n",
    "for index, row in d.iterrows():\n",
    "    df = pd.DataFrame (columns = ['Label','Notation', 'Parent Notation', 'Sort Priority', 'Description'])\n",
    "    a = pd.DataFrame(list(row))\n",
    "    urn = (a['@urn'])[0]\n",
    "    isexref = (a['@isExternalReference'])[0]\n",
    "    iden = (a['@id'])[0]\n",
    "    isfin = (a['@isFinal'])[0]\n",
    "    version = (a['@version'])[0]\n",
    "    agencyid = (a['@agencyID'])[0]\n",
    "    filename = iden.replace('_','-').lower() + '.csv'\n",
    "    print(filename)\n",
    "    b = pd.DataFrame(list(a['str:Code']))\n",
    "    b = b.transpose()\n",
    "    for index, ro in b.iterrows():\n",
    "        c = pd.DataFrame(list(ro))\n",
    "        e = pd.DataFrame(list(c['@id']))\n",
    "        notation = e[0]\n",
    "        e = pd.DataFrame(list(c['com:Name']))\n",
    "        label = (e['#text'])[0]\n",
    "        try:\n",
    "            e = pd.DataFrame(list(c['com:Description']))\n",
    "            description = (e['#text'])[0]\n",
    "        except:\n",
    "            description = ''\n",
    "            \n",
    "        newrow = {'Label':label, 'Notation':notation[0], 'Parent Notation':'', 'Sort Priority':'', 'Description':description}\n",
    "        df = df.append(newrow, ignore_index=True)\n",
    "    df['Sort Priority'] = np.arange(df.shape[0]) + 1\n",
    "    df.to_csv('codelists/' + filename, index = False)\n",
    "    \n",
    "    try:\n",
    "        with open('codelists/json-template.csv-metadata.json', 'r') as schema:\n",
    "            txt = schema.read()\n",
    "            schema.close()\n",
    "            \n",
    "        txt = txt.replace('{codelist}',filename.replace('.csv',''))\n",
    "        txt = txt.replace('{codelistlabel}', iden)\n",
    "        com = f\"Dataset representing the codelist {iden}. URN: {urn}. Main source: https://sdmx.org/?page_id=1747. Structure source: https://registry.sdmx.org/ws/public/sdmxapi/rest/datastructure/IMF/BOP/1.14/?detail=full&references=descendants&version=2.1:1:555:\"\n",
    "        txt = txt.replace('{codelistcomment}',com)\n",
    "        txt = txt.replace('{dtetme}',prepareddate)\n",
    "            \n",
    "        f = open(f\"codelists/{filename}.csv-metadata.json\", \"w\")\n",
    "        f.write(txt)\n",
    "        f.close()\n",
    "    except Exception as e:\n",
    "        print('SCHEMA Error: ' + str(e))\n",
    "    \n",
    "    del df, filename, urn, iden, version, agencyid, label, notation, description\n",
    "\n",
    "del output_dict, d, a, b, c"
   ]
  },
  {
   "cell_type": "code",
   "execution_count": 165,
   "metadata": {},
   "outputs": [
    {
     "name": "stdout",
     "output_type": "stream",
     "text": [
      "cs-bop.csv\n"
     ]
    }
   ],
   "source": [
    "#### OUTPUT THE CONCEPT SCHEME ####\n",
    "input_dict = data\n",
    "output_dict = json.loads(json.dumps(input_dict))\n",
    "output_dict = output_dict['mes:Structure']['mes:Structures']['str:Concepts']['str:ConceptScheme']\n",
    "a = output_dict#pd.DataFrame(output_dict)\n",
    "df = pd.DataFrame (columns = ['Label','Notation', 'Parent Notation', 'Sort Priority', 'Description'])\n",
    "\n",
    "urn = (a['@urn'])\n",
    "isexref = (a['@isExternalReference'])\n",
    "iden = (a['@id'])\n",
    "isfin = (a['@isFinal'])\n",
    "version = (a['@version'])\n",
    "agencyid = (a['@agencyID'])\n",
    "filename = iden.replace('_','-').lower() + '.csv'\n",
    "nme = (a['com:Name']['#text'])\n",
    "print(filename)\n",
    "b = pd.DataFrame(list(a['str:Concept']))\n",
    "\n",
    "for index, ro in b.iterrows():\n",
    "    c = list(ro)\n",
    "    notation = c[1]\n",
    "    label = c[2]['#text']\n",
    "    try:\n",
    "        description = (c[3]['#text'])\n",
    "    except:\n",
    "        description = ''  \n",
    "    newrow = {'Label':label, 'Notation':notation, 'Parent Notation':'', 'Sort Priority':'', 'Description':description}\n",
    "    df = df.append(newrow, ignore_index=True)\n",
    "    \n",
    "    try:\n",
    "        with open('codelists/json-template.csv-metadata.json', 'r') as schema:\n",
    "            txt = schema.read()\n",
    "            schema.close()\n",
    "            \n",
    "        txt = txt.replace('{codelist}',filename.replace('.csv',''))\n",
    "        txt = txt.replace('{codelistlabel}', iden)\n",
    "        com = f\"Dataset representing the concept scheme {iden}. URN: {urn}. Main source: https://sdmx.org/?page_id=1747. Structure source: https://registry.sdmx.org/ws/public/sdmxapi/rest/datastructure/IMF/BOP/1.14/?detail=full&references=descendants&version=2.1:1:555:\"\n",
    "        txt = txt.replace('{codelistcomment}',com)\n",
    "        txt = txt.replace('{dtetme}',prepareddate)\n",
    "            \n",
    "        f = open(f\"codelists/{filename}.csv-metadata.json\", \"w\")\n",
    "        f.write(txt)\n",
    "        f.close()\n",
    "    except Exception as e:\n",
    "        print('SCHEMA Error: ' + str(e))\n",
    "    \n",
    "df['Sort Priority'] = np.arange(df.shape[0]) + 1\n",
    "df.to_csv('codelists/' + filename, index = False)\n",
    "del df, filename, urn, iden, version, agencyid, label, notation, description"
   ]
  },
  {
   "cell_type": "code",
   "execution_count": 167,
   "metadata": {},
   "outputs": [
    {
     "name": "stdout",
     "output_type": "stream",
     "text": [
      "agencies.csv\n"
     ]
    }
   ],
   "source": [
    "#### OUTPUT THE ORGANISATION SCHEME ####\n",
    "input_dict = data\n",
    "output_dict = json.loads(json.dumps(input_dict))\n",
    "output_dict = output_dict['mes:Structure']['mes:Structures']['str:OrganisationSchemes']['str:AgencyScheme']\n",
    "a = output_dict\n",
    "df = pd.DataFrame (columns = ['Label','Notation', 'Parent Notation', 'Sort Priority', 'Description'])\n",
    "\n",
    "urn = (a['@urn'])\n",
    "isexref = (a['@isExternalReference'])\n",
    "iden = (a['@id'])\n",
    "isfin = (a['@isFinal'])\n",
    "version = (a['@version'])\n",
    "agencyid = (a['@agencyID'])\n",
    "filename = iden.replace('_','-').lower() + '.csv'\n",
    "nme = (a['com:Name']['#text'])\n",
    "print(filename)\n",
    "b = pd.DataFrame(list(a['str:Agency']))\n",
    "\n",
    "for index, ro in b.iterrows():\n",
    "    c = list(ro)\n",
    "    #print(c)\n",
    "    notation = c[1]\n",
    "    try:\n",
    "        label = c[2]['#text']\n",
    "    except:\n",
    "        label = c[2][0]['#text']\n",
    "    try:\n",
    "        description = (c[3]['#text'])\n",
    "    except:\n",
    "        description = ''\n",
    "    try:\n",
    "        description = description + \"\\nURI: \" + c[4]['str:URI']\n",
    "    except:\n",
    "        description = description\n",
    "    try:\n",
    "        description = description + \"\\nEmail: \" + c[4]['str:Email']\n",
    "    except:\n",
    "        description = description \n",
    "    newrow = {'Label':label, 'Notation':notation, 'Parent Notation':'', 'Sort Priority':'', 'Description':description}\n",
    "    df = df.append(newrow, ignore_index=True)\n",
    "\n",
    "    try:\n",
    "        with open('codelists/json-template.csv-metadata.json', 'r') as schema:\n",
    "            txt = schema.read()\n",
    "            schema.close()\n",
    "            \n",
    "        txt = txt.replace('{codelist}',filename.replace('.csv',''))\n",
    "        txt = txt.replace('{codelistlabel}', iden)\n",
    "        com = f\"Dataset representing the organisation scheme {iden}. URN: {urn}. Main source: https://sdmx.org/?page_id=1747. Structure source: https://registry.sdmx.org/ws/public/sdmxapi/rest/datastructure/IMF/BOP/1.14/?detail=full&references=descendants&version=2.1:1:555:\"\n",
    "        txt = txt.replace('{codelistcomment}',com)\n",
    "        txt = txt.replace('{dtetme}',prepareddate)\n",
    "            \n",
    "        f = open(f\"codelists/{filename}.csv-metadata.json\", \"w\")\n",
    "        f.write(txt)\n",
    "        f.close()\n",
    "    except Exception as e:\n",
    "        print('SCHEMA Error: ' + str(e))\n",
    "    \n",
    "df['Sort Priority'] = np.arange(df.shape[0]) + 1\n",
    "df.to_csv('codelists/' + filename, index = False)\n",
    "del df, filename, urn, iden, version, agencyid, label, notation, description\n"
   ]
  }
 ],
 "metadata": {
  "kernelspec": {
   "display_name": "Python 3",
   "language": "python",
   "name": "python3"
  },
  "language_info": {
   "codemirror_mode": {
    "name": "ipython",
    "version": 3
   },
   "file_extension": ".py",
   "mimetype": "text/x-python",
   "name": "python",
   "nbconvert_exporter": "python",
   "pygments_lexer": "ipython3",
   "version": "3.7.4"
  }
 },
 "nbformat": 4,
 "nbformat_minor": 2
}
